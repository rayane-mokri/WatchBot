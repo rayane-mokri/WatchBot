{
 "cells": [
  {
   "cell_type": "code",
   "execution_count": 1,
   "id": "bbd3c925-5e4b-4694-8519-a513e3cdfd7a",
   "metadata": {
    "tags": []
   },
   "outputs": [],
   "source": [
    "import os\n",
    "import random\n",
    "import discord\n",
    "import logging\n",
    "from discord.ext import commands\n",
    "from dotenv import load_dotenv\n",
    "\n",
    "import reddit\n",
    "\n",
    "load_dotenv()\n",
    "TOKEN = os.getenv('DISCORD_TOKEN')\n",
    "REDDIT_ID = os.getenv('REDDIT_ID')\n",
    "REDDIT_SECRET = os.getenv('REDDIT_SECRET')\n",
    "REDDIT_USERNAME = os.getenv('REDDIT_USERNAME')\n",
    "REDDIT_PSSWD = os.getenv('REDDIT_PSSWD')\n",
    "\n",
    "topics = [\"MachineLearning\", \"python\"]\n",
    "for topic in topics:\n",
    "    articles = reddit.reddit_topic_top(topic, REDDIT_ID, REDDIT_SECRET,\n",
    "                                       REDDIT_USERNAME, REDDIT_PSSWD)\n",
    "    print(articles)"
   ]
  },
  {
   "cell_type": "code",
   "execution_count": 27,
   "id": "f9054521-78ba-4d6d-8e22-75a91e53f369",
   "metadata": {},
   "outputs": [],
   "source": [
    "import os\n",
    "import requests\n",
    "from dotenv import load_dotenv\n",
    "\n",
    "def reddit_connect(ID, SECRET, USERNAME, PSSWD):\n",
    "    auth = requests.auth.HTTPBasicAuth(ID, SECRET)\n",
    "    data = {'grant_type': 'password',\n",
    "            'username': USERNAME,\n",
    "            'password': PSSWD}\n",
    "    headers = {'User-Agent': 'MyBot/0.0.1'}\n",
    "    res = requests.post('https://www.reddit.com/api/v1/access_token',\n",
    "                        auth=auth, data=data, headers=headers)\n",
    "    TOKEN = res.json()['access_token']\n",
    "    headers = {**headers, **{'Authorization': f\"bearer {TOKEN}\"}}\n",
    "    return headers"
   ]
  },
  {
   "cell_type": "code",
   "execution_count": 36,
   "id": "5b1da176-ecc0-4624-acd0-ea1dec2159fe",
   "metadata": {},
   "outputs": [
    {
     "name": "stdout",
     "output_type": "stream",
     "text": [
      "{'python': [], 'MachineLearning': [{'url': 'https://v.redd.it/1epqhji6o01b1', 'title': '[R] Video Demo of “Drag Your GAN: Interactive Point-based Manipulation on the Generative Image Manifold”', 'text': '', 'tag': 'Research', 'topic': 'MachineLearning'}, {'url': 'https://www.reddit.com/r/MachineLearning/comments/13ovc04/r_gpt4_didnt_really_score_90th_percentile_on_the/', 'title': \"[R] GPT-4 didn't really score 90th percentile on the bar exam\", 'text': 'According to [this article](https://papers.ssrn.com/sol3/papers.cfm?abstract_id=4441311), OpenAI\\'s claim that it scored 90th percentile on the UBE appears to be based on approximate conversions from estimates of February administrations of the Illinois Bar Exam, which \"are heavily skewed towards repeat test-takers who failed the July administration and score significantly lower than the general test-taking population.\"\\n\\nCompared to July test-takers, GPT-4\\'s UBE score would be 68th percentile, including \\\\~48th on essays. Compared to first-time test takers, GPT-4\\'s UBE score is estimated to be \\\\~63rd percentile, including \\\\~42nd on essays. Compared to those who actually passed, its UBE score would be \\\\~48th percentile, including \\\\~15th percentile on essays.', 'tag': 'Research', 'topic': 'MachineLearning'}, {'url': 'https://www.reddit.com/r/MachineLearning/comments/13rie0e/openai_is_now_complaining_about_regulation_of_ai_d/', 'title': 'OpenAI is now complaining about regulation of AI [D]', 'text': 'I held off for a while but hypocrisy just drives me nuts after hearing this.\\n\\nSMH this company like white knights who think they are above everybody. They want regulation but they want to be untouchable by this regulation. Only wanting to hurt other people but not “almighty” Sam and friends.\\n\\nLies straight through his teeth to Congress about suggesting similar things done in the EU, but then starts complain about them now. This dude should not be taken seriously in any political sphere whatsoever.\\n\\nMy opinion is this company is anti-progressive for AI by locking things up which is contrary to their brand name. If they can’t even stay true to something easy like that, how should we expect them to stay true with AI safety which is much harder?\\n\\nI am glad they switch sides for now, but pretty ticked how they think they are entitled to corruption to benefit only themselves. SMH!!!!!!!!\\n\\nWhat are your thoughts?', 'tag': 'Discussion', 'topic': 'MachineLearning'}, {'url': 'https://spectrum.ieee.org/backpropagation-optical-ai', 'title': '[N] Photonic chips can now perform back propagation', 'text': '', 'tag': 'News', 'topic': 'MachineLearning'}, {'url': 'https://arxiv.org/abs/2305.11206', 'title': 'LIMA, a 65B-Param LLaMa fine-tuned with standard supervised loss on only 1,000 carefully curated prompts &amp; responses, without any RLHF, demonstrates remarkably strong performance, learning to follow specific responses from only a handful of examples in the training data, including complex queries.', 'text': '', 'tag': 'Research', 'topic': 'MachineLearning'}]}\n"
     ]
    }
   ],
   "source": [
    "\n",
    "headers = reddit_connect(REDDIT_ID, REDDIT_SECRET, REDDIT_USERNAME,\n",
    "                         REDDIT_PSSWD)\n",
    "requests.get('https://oauth.reddit.com/api/v1/me', headers=headers)\n",
    "res = requests.get(f\"https://oauth.reddit.com/r/{topic}/top/?t=week\",\n",
    "                   headers=headers)"
   ]
  },
  {
   "cell_type": "code",
   "execution_count": 116,
   "id": "be13547f-821a-4ba3-9f42-d40e417e16d5",
   "metadata": {},
   "outputs": [],
   "source": [
    "darticles = {}\n",
    "topics = [\"MachineLearning\", \"python\"]\n",
    "    for topic in topics :\n",
    "        articles = []\n",
    "        headers = reddit_connect(REDDIT_ID, REDDIT_SECRET, REDDIT_USERNAME,\n",
    "                             REDDIT_PSSWD)\n",
    "        requests.get('https://oauth.reddit.com/api/v1/me', headers=headers)\n",
    "        res = requests.get(f\"https://oauth.reddit.com/r/{topic}/top/?t=week\",\n",
    "                       headers=headers)\n",
    "    for i in range(5):\n",
    "        base = res.json()[\"data\"][\"children\"][i][\"data\"]\n",
    "        article = {\"tag\": base[\"link_flair_text\"],\n",
    "                   \"title\": base[\"title\"],\n",
    "                   \"url\": base[\"url\"],\n",
    "                   \"text\": base[\"selftext\"],\n",
    "                   }\n",
    "        articles.append(article)\n",
    "    darticles.update({topic : articles})\n",
    "\t"
   ]
  },
  {
   "cell_type": "code",
   "execution_count": 122,
   "id": "6a5ddfda-e9fb-4b26-82c7-ab494a22356c",
   "metadata": {},
   "outputs": [
    {
     "data": {
      "text/plain": [
       "[{'tag': 'Discussion',\n",
       "  'title': 'Realised Ive spent 10 hrs learning to automate a job that takes me 15 minutes a week',\n",
       "  'url': 'https://www.reddit.com/r/Python/comments/13s7h2m/realised_ive_spent_10_hrs_learning_to_automate_a/',\n",
       "  'text': 'And Im only half way through. \\n\\nworth_it = True \\n\\n\\nYes Im a noob'},\n",
       " {'tag': 'News',\n",
       "  'title': 'PyPI was subpoenaed',\n",
       "  'url': 'https://blog.pypi.org/posts/2023-05-24-pypi-was-subpoenaed/',\n",
       "  'text': ''},\n",
       " {'tag': 'Resource',\n",
       "  'title': 'Turn your Click CLI into a TUI with a two-line change',\n",
       "  'url': 'https://github.com/Textualize/trogon',\n",
       "  'text': ''},\n",
       " {'tag': 'Discussion',\n",
       "  'title': \"What's the most pointless program you've made with Python that you still use today?\",\n",
       "  'url': 'https://www.reddit.com/r/Python/comments/13pmej7/whats_the_most_pointless_program_youve_made_with/',\n",
       "  'text': \"As the title suggests. I've seen a lot of posts here about automations and as a result I've seen some amazing projects that would be very useful when it comes to saving time.\\n\\nBut that made me wonder about the opposite of this event. So I'm curious about what people have made that they didn't have to make, but they still use today.\\n\\nI'll go first: I made a program to open my Microsoft Teams meetings when they've been scheduled to start. Literally everyone I've told about this has told me that it would be more sensible to just set an alarm. While I agree, I still can't help but smile when a new tab suddenly opens to a Microsoft Teams meeting while I'm distracted by something else.\\n\\nSo, what are those projects you've made that you didn't have to, but you still use for some reason or another.\"},\n",
       " {'tag': 'Beginner Showcase',\n",
       "  'title': 'Yay! I can officially join this subreddit now!',\n",
       "  'url': 'https://www.reddit.com/r/Python/comments/13omgv8/yay_i_can_officially_join_this_subreddit_now/',\n",
       "  'text': '&amp;#x200B;\\n\\nSource Code:\\n\\nhttps://preview.redd.it/hwvn9xrcvc1b1.png?width=1157&amp;format=png&amp;auto=webp&amp;v=enabled&amp;s=f62ff30e00038982b4a14bce89771672c3c40a53\\n\\nSource code:\\n\\n    print(\"Hello World\")\\n\\nThanks to the resources provided by the community (all of you), you have made it easy for me to start my programming journey.'}]"
      ]
     },
     "execution_count": 122,
     "metadata": {},
     "output_type": "execute_result"
    }
   ],
   "source": [
    "darticles[\"python\"]"
   ]
  }
 ],
 "metadata": {
  "kernelspec": {
   "display_name": "Python 3 (ipykernel)",
   "language": "python",
   "name": "python3"
  },
  "language_info": {
   "codemirror_mode": {
    "name": "ipython",
    "version": 3
   },
   "file_extension": ".py",
   "mimetype": "text/x-python",
   "name": "python",
   "nbconvert_exporter": "python",
   "pygments_lexer": "ipython3",
   "version": "3.9.13"
  }
 },
 "nbformat": 4,
 "nbformat_minor": 5
}
